{
 "cells": [
  {
   "cell_type": "markdown",
   "metadata": {
    "colab_type": "text",
    "id": "gxwoJnkV2QNw"
   },
   "source": [
    "### 1. Import dei pachetti necessari"
   ]
  },
  {
   "cell_type": "code",
   "execution_count": 1,
   "metadata": {
    "colab": {},
    "colab_type": "code",
    "id": "gNYxFlE71_ii"
   },
   "outputs": [
    {
     "name": "stderr",
     "output_type": "stream",
     "text": [
      "Using TensorFlow backend.\n",
      "C:\\Users\\feder\\anaconda3\\lib\\site-packages\\tensorflow\\python\\framework\\dtypes.py:516: FutureWarning: Passing (type, 1) or '1type' as a synonym of type is deprecated; in a future version of numpy, it will be understood as (type, (1,)) / '(1,)type'.\n",
      "  _np_qint8 = np.dtype([(\"qint8\", np.int8, 1)])\n",
      "C:\\Users\\feder\\anaconda3\\lib\\site-packages\\tensorflow\\python\\framework\\dtypes.py:517: FutureWarning: Passing (type, 1) or '1type' as a synonym of type is deprecated; in a future version of numpy, it will be understood as (type, (1,)) / '(1,)type'.\n",
      "  _np_quint8 = np.dtype([(\"quint8\", np.uint8, 1)])\n",
      "C:\\Users\\feder\\anaconda3\\lib\\site-packages\\tensorflow\\python\\framework\\dtypes.py:518: FutureWarning: Passing (type, 1) or '1type' as a synonym of type is deprecated; in a future version of numpy, it will be understood as (type, (1,)) / '(1,)type'.\n",
      "  _np_qint16 = np.dtype([(\"qint16\", np.int16, 1)])\n",
      "C:\\Users\\feder\\anaconda3\\lib\\site-packages\\tensorflow\\python\\framework\\dtypes.py:519: FutureWarning: Passing (type, 1) or '1type' as a synonym of type is deprecated; in a future version of numpy, it will be understood as (type, (1,)) / '(1,)type'.\n",
      "  _np_quint16 = np.dtype([(\"quint16\", np.uint16, 1)])\n",
      "C:\\Users\\feder\\anaconda3\\lib\\site-packages\\tensorflow\\python\\framework\\dtypes.py:520: FutureWarning: Passing (type, 1) or '1type' as a synonym of type is deprecated; in a future version of numpy, it will be understood as (type, (1,)) / '(1,)type'.\n",
      "  _np_qint32 = np.dtype([(\"qint32\", np.int32, 1)])\n",
      "C:\\Users\\feder\\anaconda3\\lib\\site-packages\\tensorflow\\python\\framework\\dtypes.py:525: FutureWarning: Passing (type, 1) or '1type' as a synonym of type is deprecated; in a future version of numpy, it will be understood as (type, (1,)) / '(1,)type'.\n",
      "  np_resource = np.dtype([(\"resource\", np.ubyte, 1)])\n",
      "C:\\Users\\feder\\anaconda3\\lib\\site-packages\\tensorboard\\compat\\tensorflow_stub\\dtypes.py:541: FutureWarning: Passing (type, 1) or '1type' as a synonym of type is deprecated; in a future version of numpy, it will be understood as (type, (1,)) / '(1,)type'.\n",
      "  _np_qint8 = np.dtype([(\"qint8\", np.int8, 1)])\n",
      "C:\\Users\\feder\\anaconda3\\lib\\site-packages\\tensorboard\\compat\\tensorflow_stub\\dtypes.py:542: FutureWarning: Passing (type, 1) or '1type' as a synonym of type is deprecated; in a future version of numpy, it will be understood as (type, (1,)) / '(1,)type'.\n",
      "  _np_quint8 = np.dtype([(\"quint8\", np.uint8, 1)])\n",
      "C:\\Users\\feder\\anaconda3\\lib\\site-packages\\tensorboard\\compat\\tensorflow_stub\\dtypes.py:543: FutureWarning: Passing (type, 1) or '1type' as a synonym of type is deprecated; in a future version of numpy, it will be understood as (type, (1,)) / '(1,)type'.\n",
      "  _np_qint16 = np.dtype([(\"qint16\", np.int16, 1)])\n",
      "C:\\Users\\feder\\anaconda3\\lib\\site-packages\\tensorboard\\compat\\tensorflow_stub\\dtypes.py:544: FutureWarning: Passing (type, 1) or '1type' as a synonym of type is deprecated; in a future version of numpy, it will be understood as (type, (1,)) / '(1,)type'.\n",
      "  _np_quint16 = np.dtype([(\"quint16\", np.uint16, 1)])\n",
      "C:\\Users\\feder\\anaconda3\\lib\\site-packages\\tensorboard\\compat\\tensorflow_stub\\dtypes.py:545: FutureWarning: Passing (type, 1) or '1type' as a synonym of type is deprecated; in a future version of numpy, it will be understood as (type, (1,)) / '(1,)type'.\n",
      "  _np_qint32 = np.dtype([(\"qint32\", np.int32, 1)])\n",
      "C:\\Users\\feder\\anaconda3\\lib\\site-packages\\tensorboard\\compat\\tensorflow_stub\\dtypes.py:550: FutureWarning: Passing (type, 1) or '1type' as a synonym of type is deprecated; in a future version of numpy, it will be understood as (type, (1,)) / '(1,)type'.\n",
      "  np_resource = np.dtype([(\"resource\", np.ubyte, 1)])\n"
     ]
    }
   ],
   "source": [
    "import numpy as np\n",
    "import cv2 as cv\n",
    "from keras.applications.imagenet_utils import preprocess_input\n",
    "from keras.preprocessing.image import img_to_array\n",
    "from keras.models import load_model"
   ]
  },
  {
   "cell_type": "markdown",
   "metadata": {
    "colab_type": "text",
    "id": "Q1CeKavf2Vpm"
   },
   "source": [
    "### 2. Caricamento dei modelli\n",
    "- modello per il ricnoscimento del soggetto\n",
    "- modello per il ricnoscimento della presenza/assenza della mascherina sul volto"
   ]
  },
  {
   "cell_type": "code",
   "execution_count": 2,
   "metadata": {
    "colab": {},
    "colab_type": "code",
    "id": "bViQBLWq1_i0",
    "outputId": "6234f1d3-7d63-46df-bc77-d82c3bbe6830"
   },
   "outputs": [
    {
     "name": "stdout",
     "output_type": "stream",
     "text": [
      "WARNING:tensorflow:From C:\\Users\\feder\\anaconda3\\lib\\site-packages\\keras\\backend\\tensorflow_backend.py:4070: The name tf.nn.max_pool is deprecated. Please use tf.nn.max_pool2d instead.\n",
      "\n",
      "WARNING:tensorflow:From C:\\Users\\feder\\anaconda3\\lib\\site-packages\\tensorflow\\python\\ops\\math_grad.py:1250: add_dispatch_support.<locals>.wrapper (from tensorflow.python.ops.array_ops) is deprecated and will be removed in a future version.\n",
      "Instructions for updating:\n",
      "Use tf.where in 2.0, which has the same broadcast rule as np.where\n",
      "WARNING:tensorflow:From C:\\Users\\feder\\anaconda3\\lib\\site-packages\\keras\\backend\\tensorflow_backend.py:422: The name tf.global_variables is deprecated. Please use tf.compat.v1.global_variables instead.\n",
      "\n"
     ]
    }
   ],
   "source": [
    "model_subject = load_model(\"models_saved/vggface_people\")\n",
    "model_mask = load_model(\"models_saved/vggface_mask\")"
   ]
  },
  {
   "cell_type": "markdown",
   "metadata": {
    "colab_type": "text",
    "id": "4nDTzhiS2hhJ"
   },
   "source": [
    "### 3. Demo live"
   ]
  },
  {
   "cell_type": "code",
   "execution_count": 4,
   "metadata": {
    "colab": {},
    "colab_type": "code",
    "id": "2JTEh_BH1_i7"
   },
   "outputs": [],
   "source": [
    "face_detector = cv.CascadeClassifier('haarcascade_frontalface_default.xml')\n",
    "\n",
    "cap = cv.VideoCapture(0)\n",
    "\n",
    "cap.set(3,640)\n",
    "cap.set(4,480)\n",
    "\n",
    "while True:\n",
    "    ret, frame = cap.read()\n",
    "    frame_gray = cv.cvtColor(frame, cv.COLOR_BGR2GRAY)\n",
    "    color = (255,0,0)\n",
    "    face = cv.cvtColor(frame, cv.COLOR_BGR2RGB)\n",
    "    faces = face_detector.detectMultiScale(frame_gray,1.1,4)\n",
    "    \n",
    "    try:\n",
    "        faces = faces.tolist()\n",
    "        faces.sort()\n",
    "    except:\n",
    "        pass\n",
    "    \n",
    "    for (x,y,w,h) in faces:\n",
    "        face = frame[y:y+h,x:x+w,:]\n",
    "        face = cv.cvtColor(face, cv.COLOR_BGR2RGB)\n",
    "        img_pixels = cv.resize(face, (224, 224)) \n",
    "        img_pixels = img_to_array(img_pixels)\n",
    "        img_pixels = np.expand_dims(img_pixels, axis = 0)\n",
    "        img_pixels = img_pixels.reshape(1,224,224,3)\n",
    "        img_pixels = preprocess_input(img_pixels)\n",
    "        \n",
    "        y_ana = np.argmax(model_subject.predict(img_pixels)[1], axis=1)[0]\n",
    "        y_fede = np.argmax(model_subject.predict(img_pixels)[0], axis=1)[0]\n",
    "        y_da = np.argmax(model_subject.predict(img_pixels)[2], axis=1)[0]\n",
    "\n",
    "\n",
    "        #subject = str()\n",
    "\n",
    "\n",
    "        if y_ana==1 and y_fede==0 and y_da==0:\n",
    "            subject = 'Anastasia'\n",
    "        elif y_ana==0 and y_fede==1 and y_da==0:\n",
    "            subject = 'Federico'\n",
    "        elif y_ana==0 and y_fede==0 and y_da==1:\n",
    "            subject = 'Davide'\n",
    "        else:\n",
    "            subject = 'unknown'\n",
    "        \n",
    "        y_pred_mask = np.argmax(model_mask.predict(img_pixels), axis=1)[0]\n",
    "        \n",
    "        if y_pred_mask==0:\n",
    "            mask=\"No\"\n",
    "        elif y_pred_mask==1:\n",
    "            mask=\"Yes\"\n",
    "            \n",
    "        \n",
    "            \n",
    "    for (x,y,w,h) in faces:\n",
    "        \n",
    "        face = frame[y:y+h,x:x+w,:]\n",
    "        face = cv.cvtColor(face, cv.COLOR_BGR2RGB)\n",
    "        \n",
    "        if(mask==\"Yes\"):\n",
    "            color=(0,255,0)\n",
    "        else:\n",
    "            color=(0,0,255)\n",
    "            \n",
    "        #cv.rectangle(frame,(x,y),(x+w,y+h),(0,255,0),2)\n",
    "        \n",
    "        try:\n",
    "            cv.rectangle(frame, (x, y), (x+w, y+h), color, 2)\n",
    "           \n",
    "            cv.putText(frame, \n",
    "                       (\"PERSON: \" + subject + \" - MASK: \"+mask), \n",
    "                       ((5, 30)), \n",
    "                        cv.FONT_HERSHEY_SIMPLEX,0.8,color,2)\n",
    "        except:\n",
    "            pass\n",
    "    \n",
    "    cv.imshow('FaceDetection', frame)\n",
    "    \n",
    "    k = cv.waitKey(30) & 0xff\n",
    "    if k == 27: # press 'ESC' to quit\n",
    "        break\n",
    "\n",
    "cap.release()\n",
    "cv.destroyAllWindows()        "
   ]
  }
 ],
 "metadata": {
  "colab": {
   "collapsed_sections": [],
   "name": "2.3-demo_2D.ipynb",
   "provenance": []
  },
  "kernelspec": {
   "display_name": "Python 3",
   "language": "python",
   "name": "python3"
  },
  "language_info": {
   "codemirror_mode": {
    "name": "ipython",
    "version": 3
   },
   "file_extension": ".py",
   "mimetype": "text/x-python",
   "name": "python",
   "nbconvert_exporter": "python",
   "pygments_lexer": "ipython3",
   "version": "3.7.6"
  }
 },
 "nbformat": 4,
 "nbformat_minor": 1
}
