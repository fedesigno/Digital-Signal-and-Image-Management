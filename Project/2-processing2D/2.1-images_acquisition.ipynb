{
 "cells": [
  {
   "cell_type": "markdown",
   "metadata": {
    "colab_type": "text",
    "id": "tRed7zkraiFX"
   },
   "source": [
    "### 1. Import dei pacchetti necessari"
   ]
  },
  {
   "cell_type": "code",
   "execution_count": null,
   "metadata": {
    "colab": {},
    "colab_type": "code",
    "id": "3OkqGvc7oHkO"
   },
   "outputs": [],
   "source": [
    "from cv2 import *\n",
    "import time\n",
    "import os"
   ]
  },
  {
   "cell_type": "markdown",
   "metadata": {
    "colab_type": "text",
    "id": "GpNvybW2avX8"
   },
   "source": [
    "### 2. Definizione delle funzione di acquisizione delle immagini\n",
    "La seguente funzione ottiene i frames direttamente dalla webcam del pc e li salva direttamente nelle sotto-cartelle, in base al soggetto ed in base alla presenza della mascherina o meno. Queste cartelle rappresenteranno le labels per i modelli."
   ]
  },
  {
   "cell_type": "code",
   "execution_count": null,
   "metadata": {
    "colab": {},
    "colab_type": "code",
    "id": "bQ2RLm_iok27"
   },
   "outputs": [],
   "source": [
    "def img_acquisition(name,mask):\n",
    "# initialize the camera\n",
    "    cam = VideoCapture(0) # 0 -> index of camera\n",
    "    for i in range(50):\n",
    "        fold = name + \"_\" + mask\n",
    "        if not os.path.exists(fold):\n",
    "            os.mkdir(fold)\n",
    "\n",
    "        print(\"Acquisizone immagine\"+ str(i) + \"...\")\n",
    "        time.sleep(2)\n",
    "        s, img = cam.read()\n",
    "        if s: \n",
    "            img_name = fold + \"_\" + str(i) + \".jpg\"\n",
    "            imwrite(fold + \"/\" + img_name,img) #save image\n",
    "            print(img_name,'saved!')\n",
    "        time.sleep(2)"
   ]
  },
  {
   "cell_type": "markdown",
   "metadata": {
    "colab_type": "text",
    "id": "uCy_xL8rbjlB"
   },
   "source": [
    "### 3. Acquisizione immagini"
   ]
  },
  {
   "cell_type": "code",
   "execution_count": null,
   "metadata": {
    "colab": {},
    "colab_type": "code",
    "id": "ShMOw0avt3BM"
   },
   "outputs": [],
   "source": [
    "name_subj = ['anastasia','federico', 'davide']\n",
    "masks = ['maskno', 'maskyes']"
   ]
  },
  {
   "cell_type": "code",
   "execution_count": null,
   "metadata": {
    "colab": {},
    "colab_type": "code",
    "id": "z5gYJ9f8t5FJ"
   },
   "outputs": [],
   "source": [
    "#ANASTASIA\n",
    "for m in masks:\n",
    "    img_acquisition(name_subj[0], m)"
   ]
  },
  {
   "cell_type": "code",
   "execution_count": null,
   "metadata": {
    "colab": {},
    "colab_type": "code",
    "id": "YG5HWoCyt49i"
   },
   "outputs": [],
   "source": [
    "#FEDERICO\n",
    "for m in masks:\n",
    "    img_acquisition(name_subj[1], m)"
   ]
  },
  {
   "cell_type": "code",
   "execution_count": null,
   "metadata": {
    "colab": {},
    "colab_type": "code",
    "id": "QcuLXeVYt4yZ"
   },
   "outputs": [],
   "source": [
    "#DAVIDE\n",
    "for m in masks:\n",
    "    img_acquisition(name_subj[2], m)"
   ]
  }
 ],
 "metadata": {
  "colab": {
   "authorship_tag": "ABX9TyOvXP0+1ESTp3qgZr4icivx",
   "collapsed_sections": [],
   "name": "2.1-images_acquisition",
   "provenance": []
  },
  "kernelspec": {
   "display_name": "Python 3",
   "language": "python",
   "name": "python3"
  },
  "language_info": {
   "codemirror_mode": {
    "name": "ipython",
    "version": 3
   },
   "file_extension": ".py",
   "mimetype": "text/x-python",
   "name": "python",
   "nbconvert_exporter": "python",
   "pygments_lexer": "ipython3",
   "version": "3.7.6"
  }
 },
 "nbformat": 4,
 "nbformat_minor": 1
}
