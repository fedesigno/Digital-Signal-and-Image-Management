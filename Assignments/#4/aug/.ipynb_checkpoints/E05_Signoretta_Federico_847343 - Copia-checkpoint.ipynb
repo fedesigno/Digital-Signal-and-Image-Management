{
 "cells": [
  {
   "cell_type": "markdown",
   "metadata": {
    "colab_type": "text",
    "id": "3ddqZ0H3FPFk"
   },
   "source": [
    "**Nome**: *Federico*\n",
    "<br>\n",
    "**Cognome**: *Signoretta*\n",
    "<br>\n",
    "**Numero matricola**: 847343\n",
    "<br>\n",
    "**E-mail**: f.signoretta@campus.unimib.it\n",
    "<br>\n",
    "**A.A.** 2019-2020\n"
   ]
  },
  {
   "cell_type": "markdown",
   "metadata": {
    "colab_type": "text",
    "id": "e5TejdWuFPFo"
   },
   "source": [
    "\n",
    "# Digital Signal and Image Management \n",
    "- Docente: *Prof. Simone Bianco*\n",
    "- Esercitatore: *Prof. Marco Buzzelli*\n",
    "\n",
    "## Assignment n.4\n",
    "**Descrizione**: implementare una rete neurale per la classificazione del dataset MNIST a partire dalle istruzioni viste ad esercitazione.\n",
    "\n",
    "Seguire la seguente struttura:\n",
    "\n",
    "- Convoluzione bidimensionale con 32 filtri 3×3\n",
    "- ReLU\n",
    "- Max pooling bidimensionale con filtro 2×2\n",
    "- Flattening\n",
    "- Fully-connected che mappi a 128 dimensioni\n",
    "- ReLU\n",
    "- Fully-connected che mappi alla dimensione finale del problema"
   ]
  },
  {
   "cell_type": "markdown",
   "metadata": {
    "colab_type": "text",
    "id": "x_HyHx9LFPFq"
   },
   "source": [
    "### 1. Import dei pacchetti"
   ]
  },
  {
   "cell_type": "code",
   "execution_count": 1,
   "metadata": {
    "colab": {
     "base_uri": "https://localhost:8080/",
     "height": 34
    },
    "colab_type": "code",
    "id": "MQbNQzvPFPGE",
    "outputId": "a1500c88-ce91-478b-8ce3-236846035329"
   },
   "outputs": [
    {
     "name": "stderr",
     "output_type": "stream",
     "text": [
      "Using TensorFlow backend.\n",
      "C:\\Users\\feder\\anaconda3\\lib\\site-packages\\tensorflow\\python\\framework\\dtypes.py:516: FutureWarning: Passing (type, 1) or '1type' as a synonym of type is deprecated; in a future version of numpy, it will be understood as (type, (1,)) / '(1,)type'.\n",
      "  _np_qint8 = np.dtype([(\"qint8\", np.int8, 1)])\n",
      "C:\\Users\\feder\\anaconda3\\lib\\site-packages\\tensorflow\\python\\framework\\dtypes.py:517: FutureWarning: Passing (type, 1) or '1type' as a synonym of type is deprecated; in a future version of numpy, it will be understood as (type, (1,)) / '(1,)type'.\n",
      "  _np_quint8 = np.dtype([(\"quint8\", np.uint8, 1)])\n",
      "C:\\Users\\feder\\anaconda3\\lib\\site-packages\\tensorflow\\python\\framework\\dtypes.py:518: FutureWarning: Passing (type, 1) or '1type' as a synonym of type is deprecated; in a future version of numpy, it will be understood as (type, (1,)) / '(1,)type'.\n",
      "  _np_qint16 = np.dtype([(\"qint16\", np.int16, 1)])\n",
      "C:\\Users\\feder\\anaconda3\\lib\\site-packages\\tensorflow\\python\\framework\\dtypes.py:519: FutureWarning: Passing (type, 1) or '1type' as a synonym of type is deprecated; in a future version of numpy, it will be understood as (type, (1,)) / '(1,)type'.\n",
      "  _np_quint16 = np.dtype([(\"quint16\", np.uint16, 1)])\n",
      "C:\\Users\\feder\\anaconda3\\lib\\site-packages\\tensorflow\\python\\framework\\dtypes.py:520: FutureWarning: Passing (type, 1) or '1type' as a synonym of type is deprecated; in a future version of numpy, it will be understood as (type, (1,)) / '(1,)type'.\n",
      "  _np_qint32 = np.dtype([(\"qint32\", np.int32, 1)])\n",
      "C:\\Users\\feder\\anaconda3\\lib\\site-packages\\tensorflow\\python\\framework\\dtypes.py:525: FutureWarning: Passing (type, 1) or '1type' as a synonym of type is deprecated; in a future version of numpy, it will be understood as (type, (1,)) / '(1,)type'.\n",
      "  np_resource = np.dtype([(\"resource\", np.ubyte, 1)])\n",
      "C:\\Users\\feder\\anaconda3\\lib\\site-packages\\tensorboard\\compat\\tensorflow_stub\\dtypes.py:541: FutureWarning: Passing (type, 1) or '1type' as a synonym of type is deprecated; in a future version of numpy, it will be understood as (type, (1,)) / '(1,)type'.\n",
      "  _np_qint8 = np.dtype([(\"qint8\", np.int8, 1)])\n",
      "C:\\Users\\feder\\anaconda3\\lib\\site-packages\\tensorboard\\compat\\tensorflow_stub\\dtypes.py:542: FutureWarning: Passing (type, 1) or '1type' as a synonym of type is deprecated; in a future version of numpy, it will be understood as (type, (1,)) / '(1,)type'.\n",
      "  _np_quint8 = np.dtype([(\"quint8\", np.uint8, 1)])\n",
      "C:\\Users\\feder\\anaconda3\\lib\\site-packages\\tensorboard\\compat\\tensorflow_stub\\dtypes.py:543: FutureWarning: Passing (type, 1) or '1type' as a synonym of type is deprecated; in a future version of numpy, it will be understood as (type, (1,)) / '(1,)type'.\n",
      "  _np_qint16 = np.dtype([(\"qint16\", np.int16, 1)])\n",
      "C:\\Users\\feder\\anaconda3\\lib\\site-packages\\tensorboard\\compat\\tensorflow_stub\\dtypes.py:544: FutureWarning: Passing (type, 1) or '1type' as a synonym of type is deprecated; in a future version of numpy, it will be understood as (type, (1,)) / '(1,)type'.\n",
      "  _np_quint16 = np.dtype([(\"quint16\", np.uint16, 1)])\n",
      "C:\\Users\\feder\\anaconda3\\lib\\site-packages\\tensorboard\\compat\\tensorflow_stub\\dtypes.py:545: FutureWarning: Passing (type, 1) or '1type' as a synonym of type is deprecated; in a future version of numpy, it will be understood as (type, (1,)) / '(1,)type'.\n",
      "  _np_qint32 = np.dtype([(\"qint32\", np.int32, 1)])\n",
      "C:\\Users\\feder\\anaconda3\\lib\\site-packages\\tensorboard\\compat\\tensorflow_stub\\dtypes.py:550: FutureWarning: Passing (type, 1) or '1type' as a synonym of type is deprecated; in a future version of numpy, it will be understood as (type, (1,)) / '(1,)type'.\n",
      "  np_resource = np.dtype([(\"resource\", np.ubyte, 1)])\n"
     ]
    }
   ],
   "source": [
    "import keras\n",
    "from keras.datasets import mnist\n",
    "from keras.models import Sequential\n",
    "from keras.layers import Dense, Flatten, Conv2D, MaxPooling2D, Activation\n",
    "import matplotlib.pyplot as plt\n",
    "from sklearn.metrics import classification_report\n",
    "from keras.utils import to_categorical\n",
    "from keras.preprocessing.image import ImageDataGenerator\n",
    "import numpy as np"
   ]
  },
  {
   "cell_type": "markdown",
   "metadata": {
    "colab_type": "text",
    "id": "v28xN5khFPGO"
   },
   "source": [
    "### 2. Caricamento dataset MNIST e visualizzazione delle immagini"
   ]
  },
  {
   "cell_type": "code",
   "execution_count": 2,
   "metadata": {
    "colab": {},
    "colab_type": "code",
    "id": "zQ0HGycgFPGP"
   },
   "outputs": [],
   "source": [
    "# Dataset predefinito offerto da keras\n",
    "(X_train, y_train), (X_test, y_test) = mnist.load_data()"
   ]
  },
  {
   "cell_type": "code",
   "execution_count": 3,
   "metadata": {
    "colab": {
     "base_uri": "https://localhost:8080/",
     "height": 528
    },
    "colab_type": "code",
    "id": "LCH4q47VJqBE",
    "outputId": "3048ae9f-39f1-4e2a-e470-e85efb497e1f"
   },
   "outputs": [
    {
     "data": {
      "image/png": "[encoded data removed]",
      "text/plain": [
       "<Figure size 1584x576 with 30 Axes>"
      ]
     },
     "metadata": {
      "needs_background": "light"
     },
     "output_type": "display_data"
    }
   ],
   "source": [
    "digits = [np.where(y_train==i)[0][:3] for i in np.unique(y_train)]\n",
    "k=1\n",
    "fig = plt.figure(figsize=(22,8))\n",
    "for d1,d2,d3 in digits:\n",
    "  fig.add_subplot(3,10,k)\n",
    "  plt.imshow(X_train[d1,:,:], cmap='gray')\n",
    "  fig.add_subplot(3,10,k+10)\n",
    "  plt.imshow(X_train[d2,:,:], cmap='gray')\n",
    "  fig.add_subplot(3,10,k+20)\n",
    "  plt.imshow(X_train[d3,:,:], cmap='gray')\n",
    "  k+=1\n",
    "fig.suptitle('Esempio di immagini presenti nel dataset MNIST - Training set')\n",
    "plt.show()"
   ]
  },
  {
   "cell_type": "code",
   "execution_count": 4,
   "metadata": {
    "colab": {
     "base_uri": "https://localhost:8080/",
     "height": 50
    },
    "colab_type": "code",
    "id": "ogzG_Nbw1o82",
    "outputId": "8289276e-1980-474c-d2a8-7d96a33377b0"
   },
   "outputs": [
    {
     "name": "stdout",
     "output_type": "stream",
     "text": [
      "Training set: (60000, 28, 28)\n",
      "Test set: (10000, 28, 28)\n"
     ]
    }
   ],
   "source": [
    "print('Training set:', X_train.shape)\n",
    "print('Test set:', X_test.shape)"
   ]
  },
  {
   "cell_type": "markdown",
   "metadata": {
    "colab_type": "text",
    "id": "GypHstG22MA2"
   },
   "source": [
    "Il dataset preso in esame è contiene immagini di dimensione *28*x*28* di numeri da *0* a *9*, così suddivise:\n",
    "- Training set: *60,000* immagini\n",
    "- Test set: *10,000* immagini\n",
    "\n"
   ]
  },
  {
   "cell_type": "markdown",
   "metadata": {
    "colab_type": "text",
    "id": "sUaYlnLQ3hui"
   },
   "source": [
    "### 3. Pre-processing\n",
    "Le immagini e le labels, per essere processate in *keras*, hanno bisogno di essere leggermente modificate. In particolare, per le **immagini**, verrà aggiunta una dimensione dedicata al canale di colore e verrà cambiato il range di valori tra 0 e 1. Le **label** verranno trasformate attraverso il metodo *one-hot encoding*.\n",
    "#### 3.1 Immagini"
   ]
  },
  {
   "cell_type": "code",
   "execution_count": 5,
   "metadata": {
    "colab": {},
    "colab_type": "code",
    "id": "SGpKG-YR1o11"
   },
   "outputs": [],
   "source": [
    "def preprocessing(X):\n",
    "  X = np.expand_dims(X, axis=-1)\n",
    "  X = X.astype('float32')/255.0\n",
    "  return X"
   ]
  },
  {
   "cell_type": "code",
   "execution_count": 6,
   "metadata": {
    "colab": {},
    "colab_type": "code",
    "id": "qwd46qWr1ook"
   },
   "outputs": [],
   "source": [
    "X_train = preprocessing(X_train)\n",
    "X_test = preprocessing(X_test)"
   ]
  },
  {
   "cell_type": "code",
   "execution_count": 7,
   "metadata": {
    "colab": {
     "base_uri": "https://localhost:8080/",
     "height": 50
    },
    "colab_type": "code",
    "id": "Q4wTEJbY1oWk",
    "outputId": "a640a96d-b7ec-404d-e82c-dd9b8b0eec67"
   },
   "outputs": [
    {
     "name": "stdout",
     "output_type": "stream",
     "text": [
      "Training set: (60000, 28, 28, 1)\n",
      "Test set: (10000, 28, 28, 1)\n"
     ]
    }
   ],
   "source": [
    "print('Training set:', X_train.shape)\n",
    "print('Test set:', X_test.shape)"
   ]
  },
  {
   "cell_type": "markdown",
   "metadata": {
    "colab_type": "text",
    "id": "JRK5FVl-7TGr"
   },
   "source": [
    "#### 3.2 Labels"
   ]
  },
  {
   "cell_type": "code",
   "execution_count": 8,
   "metadata": {
    "colab": {},
    "colab_type": "code",
    "id": "4EWZ7mP77WdU"
   },
   "outputs": [],
   "source": [
    "num_classes = 10\n",
    "y_train = keras.utils.to_categorical(y_train, num_classes)\n",
    "y_test = keras.utils.to_categorical(y_test, num_classes)"
   ]
  },
  {
   "cell_type": "markdown",
   "metadata": {
    "colab_type": "text",
    "id": "JYVv_n5UOt9t"
   },
   "source": [
    "### 4. Data Augmentation\n",
    "Per aumentare le performance del modello, ma sopratutto per evitare l'overfitting, viene applicata la tecnica di data augmentation. Pertanto, le immagini verranno modificate in altezza, in larghezza e scalate per valori compresi tra *-0.1* e *0.1* e ruotate in un range da *-5* a *5* gradi.\n"
   ]
  },
  {
   "cell_type": "code",
   "execution_count": 9,
   "metadata": {
    "colab": {},
    "colab_type": "code",
    "id": "Wh_PT7MLPlfw"
   },
   "outputs": [],
   "source": [
    "datagen = ImageDataGenerator(height_shift_range=0.1, \n",
    "                             width_shift_range = 0.1, \n",
    "                             zoom_range = 0.1, \n",
    "                             rotation_range=5)\n",
    "\n",
    "data_generator = datagen.flow(X_train, y_train, batch_size = 32)"
   ]
  },
  {
   "cell_type": "markdown",
   "metadata": {
    "colab_type": "text",
    "id": "cYgh_R0gDoPd"
   },
   "source": [
    "### 5. Definizione della rete neurale\n",
    "Vene definita la struttura delle rete neurale descrita inizialmente. "
   ]
  },
  {
   "cell_type": "code",
   "execution_count": 10,
   "metadata": {
    "colab": {
     "base_uri": "https://localhost:8080/",
     "height": 420
    },
    "colab_type": "code",
    "id": "XJoEsa2wD6z8",
    "outputId": "dcb02394-7ac6-47ac-d130-4479e6a27fdc"
   },
   "outputs": [
    {
     "name": "stdout",
     "output_type": "stream",
     "text": [
      "WARNING:tensorflow:From C:\\Users\\feder\\anaconda3\\lib\\site-packages\\keras\\backend\\tensorflow_backend.py:4070: The name tf.nn.max_pool is deprecated. Please use tf.nn.max_pool2d instead.\n",
      "\n",
      "Model: \"sequential_1\"\n",
      "_________________________________________________________________\n",
      "Layer (type)                 Output Shape              Param #   \n",
      "=================================================================\n",
      "conv2d_1 (Conv2D)            (None, 26, 26, 32)        320       \n",
      "_________________________________________________________________\n",
      "activation_1 (Activation)    (None, 26, 26, 32)        0         \n",
      "_________________________________________________________________\n",
      "max_pooling2d_1 (MaxPooling2 (None, 13, 13, 32)        0         \n",
      "_________________________________________________________________\n",
      "flatten_1 (Flatten)          (None, 5408)              0         \n",
      "_________________________________________________________________\n",
      "dense_1 (Dense)              (None, 128)               692352    \n",
      "_________________________________________________________________\n",
      "activation_2 (Activation)    (None, 128)               0         \n",
      "_________________________________________________________________\n",
      "dense_2 (Dense)              (None, 10)                1290      \n",
      "_________________________________________________________________\n",
      "activation_3 (Activation)    (None, 10)                0         \n",
      "=================================================================\n",
      "Total params: 693,962\n",
      "Trainable params: 693,962\n",
      "Non-trainable params: 0\n",
      "_________________________________________________________________\n"
     ]
    }
   ],
   "source": [
    "model = Sequential()\n",
    "\n",
    "model.add(Conv2D(32, (3,3), input_shape=X_train.shape[1:]))\n",
    "model.add(Activation('relu'))\n",
    "model.add(MaxPooling2D((2,2), strides=2))\n",
    "model.add(Flatten())\n",
    "model.add(Dense(128))\n",
    "model.add(Activation('relu'))\n",
    "model.add(Dense(num_classes))\n",
    "model.add(Activation('softmax'))\n",
    "model.summary()"
   ]
  },
  {
   "cell_type": "markdown",
   "metadata": {
    "colab_type": "text",
    "id": "iN311qqSXEQo"
   },
   "source": [
    "La rete così implementata risulta essere piuttosto leggera. Infatti, il totale dei parametri trainabili è circa *700k*."
   ]
  },
  {
   "cell_type": "markdown",
   "metadata": {
    "colab_type": "text",
    "id": "0gCo-h9OGvj2"
   },
   "source": [
    "### 6. Addestramento della rete e risultati\n",
    "#### 6.1 Addestramento\n",
    "Per l'addestramento del modello verrà utilizzata come funzione di *loss* la *categorical crossentropy* e come ottimizzatore *adam*. Gli steps per epoca saranno pari alla lunghezza del train diviso *128*. Il numero di *epoche* viene fissato a *20*."
   ]
  },
  {
   "cell_type": "code",
   "execution_count": null,
   "metadata": {
    "colab": {
     "base_uri": "https://localhost:8080/",
     "height": 50
    },
    "colab_type": "code",
    "id": "jloi789MFW0H",
    "outputId": "6ce82ac6-300a-45fa-f4a4-da56f0e5d8a4"
   },
   "outputs": [
    {
     "name": "stdout",
     "output_type": "stream",
     "text": [
      "WARNING:tensorflow:From C:\\Users\\feder\\anaconda3\\lib\\site-packages\\keras\\backend\\tensorflow_backend.py:422: The name tf.global_variables is deprecated. Please use tf.compat.v1.global_variables instead.\n",
      "\n"
     ]
    }
   ],
   "source": [
    "model.compile(loss='categorical_crossentropy',\n",
    "              optimizer = 'adam', metrics=['accuracy'])\n",
    "\n",
    "steps=len(X_train)//128\n",
    "%time history = model.fit(data_generator, validation_data=(X_test, y_test),steps_per_epoch=steps, epochs=20, verbose=0)"
   ]
  },
  {
   "cell_type": "code",
   "execution_count": null,
   "metadata": {
    "colab": {
     "base_uri": "https://localhost:8080/",
     "height": 404
    },
    "colab_type": "code",
    "id": "MCUWIBqhK1J2",
    "outputId": "10cef92b-e45d-404f-a433-c9cb258ad170"
   },
   "outputs": [],
   "source": [
    "fig = plt.figure(figsize=(18,6))\n",
    "\n",
    "fig.add_subplot(1,2,1)\n",
    "plt.plot(history.history['accuracy'], marker='.')\n",
    "plt.plot(history.history['val_accuracy'], marker='.')\n",
    "plt.title('model accuracy')\n",
    "plt.ylabel('accuracy')\n",
    "plt.xlabel('epoch')\n",
    "plt.legend(['train', 'test'], loc='upper left')\n",
    "\n",
    "fig.add_subplot(1,2,2)\n",
    "plt.plot(history.history['loss'], marker='.')\n",
    "plt.plot(history.history['val_loss'], marker='.')\n",
    "plt.title('model loss')\n",
    "plt.ylabel('loss')\n",
    "plt.xlabel('epoch')\n",
    "plt.legend(['train', 'test'], loc='upper left')\n",
    "plt.show()"
   ]
  },
  {
   "cell_type": "markdown",
   "metadata": {
    "colab_type": "text",
    "id": "rUHyZnfoVcWi"
   },
   "source": [
    "#### 6.2 Predizione sul test set e permormance sulle classi"
   ]
  },
  {
   "cell_type": "code",
   "execution_count": null,
   "metadata": {
    "colab": {
     "base_uri": "https://localhost:8080/",
     "height": 302
    },
    "colab_type": "code",
    "id": "-JfEe9pqSFzD",
    "outputId": "1597cb03-126b-4390-8c17-418955cbefd8"
   },
   "outputs": [],
   "source": [
    "y_pred = model.predict(X_test)\n",
    "y_pred = np.argmax(y_pred, axis = 1)\n",
    "y_test = np.argmax(y_test, axis = 1)\n",
    "print(classification_report(y_test, y_pred, digits = 2))"
   ]
  },
  {
   "cell_type": "markdown",
   "metadata": {
    "colab_type": "text",
    "id": "RyVtOcmOVVzX"
   },
   "source": [
    "### 7. Conclusioni\n",
    "Sebbene la rete sia  sia semplicemente composta da uno strato convoluzionale (*Con2D* e *MaxPooling*) e da un *hidden layer* da 128 neuroni, riesce a raggiungere delle ottime performance sui dati di test. Infatti, all'incirca su tutte le classi, essa riesce a raggiungere un *f1-score* vicino al *98%*. Complicando ulteriormente la rete si potrebbero ottenere risultati migliori. L'overfitting sembra essere stato gestito nel modo corretto. Una alternativa sarebbe stata l'aggiunta di layers di *Dropout*. Il motivo di queste ottime performance sono senza dubbio dovute alla semplicità del task ed alla similarità tra le immagini di test e di train. "
   ]
  }
 ],
 "metadata": {
  "accelerator": "GPU",
  "colab": {
   "collapsed_sections": [],
   "name": "E05_Signoretta_Federico_847343.ipynb",
   "provenance": []
  },
  "kernelspec": {
   "display_name": "Python 3",
   "language": "python",
   "name": "python3"
  },
  "language_info": {
   "codemirror_mode": {
    "name": "ipython",
    "version": 3
   },
   "file_extension": ".py",
   "mimetype": "text/x-python",
   "name": "python",
   "nbconvert_exporter": "python",
   "pygments_lexer": "ipython3",
   "version": "3.7.6"
  }
 },
 "nbformat": 4,
 "nbformat_minor": 1
}
