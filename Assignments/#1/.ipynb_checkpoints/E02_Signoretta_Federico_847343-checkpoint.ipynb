{
 "cells": [
  {
   "cell_type": "markdown",
   "metadata": {},
   "source": [
    "**Nome**: *Federico*\n",
    "<br>\n",
    "**Cognome**: *Signoretta*\n",
    "<br>\n",
    "**Numero matricola**: 847343\n",
    "<br>\n",
    "**E-mail**: f.signoretta@campus.unimib.it\n",
    "<br>\n",
    "**A.A.** 2019-2020\n"
   ]
  },
  {
   "cell_type": "markdown",
   "metadata": {},
   "source": [
    "\n",
    "# Digital Signal and Image Management \n",
    "- Docente: *Prof. Simone Bianco*\n",
    "- Esercitatore: *Prof. Marco Buzzelli*\n",
    "\n",
    "## Assignment n.1\n",
    "**Descrizione**: classificazione dei segnali audio monocanali attraverso SVC. Il dataset è composto da tracce audio in cui vengono pronunciati i numeri da 0 a 9, da tre differenti soggetti. I numeri rappresentano le 10 classi da predirre. Quindi, implementare la feature *Zero-Crossing Rate (ZCR)* per la descrizione di un segnale audio monocanale, in aggiunta a *deviazione standard, media, media assoluta, durata ed energia* del segnale. Verificare l'effetto dell'uso di ZCR in combinazione con altre feature presentate ad esercitazione."
   ]
  },
  {
   "cell_type": "markdown",
   "metadata": {},
   "source": [
    "### 1. Import dei pacchetti"
   ]
  },
  {
   "cell_type": "code",
   "execution_count": 1,
   "metadata": {},
   "outputs": [],
   "source": [
    "import os\n",
    "import numpy as np\n",
    "import pandas as pd\n",
    "from time import time\n",
    "from scipy.io import wavfile as wav\n",
    "\n",
    "import matplotlib.pyplot as plt\n",
    "import IPython.display as ipd\n",
    "\n",
    "# Strumenti di classificazione\n",
    "from sklearn.svm import SVC\n",
    "from sklearn.model_selection import train_test_split, GridSearchCV\n",
    "from sklearn.metrics import classification_report, confusion_matrix\n",
    "\n",
    "# Feature audio avanzate\n",
    "import librosa\n",
    "import librosa.display as lid\n",
    "from sklearn.preprocessing import scale\n",
    "\n",
    "from scipy.io import wavfile as wav"
   ]
  },
  {
   "cell_type": "markdown",
   "metadata": {},
   "source": [
    "### 2. Data loader\n",
    "#### 2.1 Caricamento delle tracce .wav, estrazione della rispettiva label, divisione in training e test set e normalizzazione"
   ]
  },
  {
   "cell_type": "code",
   "execution_count": 2,
   "metadata": {},
   "outputs": [],
   "source": [
    "# Segnaposto per feature extractor\n",
    "def identity(input):\n",
    "    return input\n",
    "\n",
    "# Data loader\n",
    "def load_data(feature_extractor=identity, normalize=True):\n",
    "\n",
    "    labels = []\n",
    "    features = []\n",
    "\n",
    "    for f in sorted(os.listdir('./recordings')):\n",
    "        if f.endswith('.wav'):\n",
    "            # Carica file ed estraine le features\n",
    "            _, signal = wav.read('./recordings/' + f)\n",
    "            cur_features = feature_extractor(signal)\n",
    "            features.append(cur_features)\n",
    "\n",
    "            # Categorie\n",
    "            label = f.split('_')[0]\n",
    "            labels.append(label)\n",
    "\n",
    "    # X: features, y: labels\n",
    "    X_train, X_test, y_train, y_test = train_test_split(features, labels, test_size=0.1, random_state=1)\n",
    "\n",
    "    if normalize:\n",
    "        eps = 0.001\n",
    "        X_train = np.array(X_train)\n",
    "        X_train_mean = X_train.mean(axis=0)\n",
    "        X_train_std = X_train.std(axis=0)\n",
    "        X_train = (X_train - X_train_mean + eps)/(X_train_std + eps)\n",
    "        X_train = [row for row in X_train]\n",
    "\n",
    "        X_test = [row for row in (np.array(X_test) - X_train_mean + eps)/(X_train_std + eps)]\n",
    "\n",
    "    return X_train, X_test, y_train, y_test"
   ]
  },
  {
   "cell_type": "markdown",
   "metadata": {},
   "source": [
    "#### 2.2. Esempio di traccia audio"
   ]
  },
  {
   "cell_type": "code",
   "execution_count": 3,
   "metadata": {
    "scrolled": true
   },
   "outputs": [
    {
     "data": {
      "text/html": [
       "\n",
       "                <audio  controls=\"controls\" >\n",
       "                    <source src=\"data:audio/wav;base64,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\" type=\"audio/wav\" />\n",
       "                    Your browser does not support the audio element.\n",
       "                </audio>\n",
       "              "
      ],
      "text/plain": [
       "<IPython.lib.display.Audio object>"
      ]
     },
     "execution_count": 3,
     "metadata": {},
     "output_type": "execute_result"
    }
   ],
   "source": [
    "# Riprodurre segnale\n",
    "audio_rate, audio = wav.read('./recordings/1_nicolas_28.wav')\n",
    "ipd.Audio(audio, rate=audio_rate)"
   ]
  },
  {
   "cell_type": "markdown",
   "metadata": {},
   "source": [
    "### 3. Creazione delle features"
   ]
  },
  {
   "cell_type": "code",
   "execution_count": 4,
   "metadata": {},
   "outputs": [],
   "source": [
    "def crop(input, size=100):\n",
    "    # Elimina eventuali valori oltre il numero consentito\n",
    "    output = input[0:min(size, input.shape[0])]\n",
    "    # Aggiungi valori nulli per raggiungere la dimensione richiesta\n",
    "    output = np.concatenate((output, np.zeros(size-output.shape[0])))\n",
    "    return output"
   ]
  },
  {
   "cell_type": "markdown",
   "metadata": {},
   "source": [
    "#### 3.1 Creazione delle features *deviazione standard, media, media assoluta, durata ed energia*"
   ]
  },
  {
   "cell_type": "code",
   "execution_count": 5,
   "metadata": {},
   "outputs": [],
   "source": [
    "def sdev(input):\n",
    "    return np.std(input, keepdims=True)\n",
    "\n",
    "def avg(input):\n",
    "    return np.mean(input, keepdims=True)\n",
    "\n",
    "def aavg(input):\n",
    "    return np.mean(np.abs(input), keepdims=True)\n",
    "\n",
    "def duration(input):\n",
    "    return input.shape\n",
    "\n",
    "def energy(input):\n",
    "    return np.sum((input*1.0)**2, keepdims=True)"
   ]
  },
  {
   "cell_type": "markdown",
   "metadata": {},
   "source": [
    "#### 3.2 Creazione della feature Zero-Crossing Rate (ZCR)\n",
    "\n",
    "Per short-time average ZCR s'intende il numero di volte in cui il segnale attraversa lo zero in un tempo unitario. La funzione da implemenetare è la seguente: \n",
    "\n",
    "$$ ZCR = \\frac{1}{2}\\sum_{k=n}^{n+N+1}|sgn(s_w(k))-sgn(s_w(k-1))|$$\n",
    "\n",
    "dove $sgn(\\cdot)$ è la funzione segno, $w$ è la funzione finestra e $s_w(k)$ è il segnale dopo il *windowing processing*.\n",
    "\n",
    "\n"
   ]
  },
  {
   "cell_type": "code",
   "execution_count": 6,
   "metadata": {},
   "outputs": [],
   "source": [
    "def zcr(input):\n",
    "    return np.sum(np.abs(np.diff(np.sign(input))), keepdims=True)*0.5"
   ]
  },
  {
   "cell_type": "markdown",
   "metadata": {},
   "source": [
    "#### 3.3 Funzione per concatenare le features create"
   ]
  },
  {
   "cell_type": "markdown",
   "metadata": {},
   "source": [
    "##### 3.3.1 Concatenazione delle features **senza ZCR**"
   ]
  },
  {
   "cell_type": "code",
   "execution_count": 7,
   "metadata": {},
   "outputs": [],
   "source": [
    "def combo(input):\n",
    "    return np.concatenate((aavg(input),sdev(input),duration(input),energy(input)))"
   ]
  },
  {
   "cell_type": "markdown",
   "metadata": {},
   "source": [
    "##### 3.3.2 Concatenazione delle features **con ZCR**"
   ]
  },
  {
   "cell_type": "code",
   "execution_count": 8,
   "metadata": {},
   "outputs": [],
   "source": [
    "def combo_zcr(input):\n",
    "    return np.concatenate((aavg(input),sdev(input),duration(input),energy(input),zcr(input)))"
   ]
  },
  {
   "cell_type": "markdown",
   "metadata": {},
   "source": [
    "### 4. Caricamento dati "
   ]
  },
  {
   "cell_type": "markdown",
   "metadata": {},
   "source": [
    "#### 4.1 Caricamento e divisione in training e test set, senza ZCR"
   ]
  },
  {
   "cell_type": "code",
   "execution_count": 9,
   "metadata": {},
   "outputs": [],
   "source": [
    "# Caricamento dati\n",
    "X_train, X_test, y_train, y_test = load_data(feature_extractor=combo)"
   ]
  },
  {
   "cell_type": "code",
   "execution_count": 10,
   "metadata": {},
   "outputs": [
    {
     "name": "stdout",
     "output_type": "stream",
     "text": [
      "Il training set è composto da 1350 tracce audio,con cardinalità pari a 4\n",
      "Il test set è composto da 150 tracce audio, con cardinalità pari a 4\n"
     ]
    }
   ],
   "source": [
    "print(\"Il training set è composto da\", len(X_train), \"tracce audio,con cardinalità pari a\", len(X_train[0][:100]))\n",
    "print(\"Il test set è composto da\", len(X_test), \"tracce audio, con cardinalità pari a\", len(X_test[0]))"
   ]
  },
  {
   "cell_type": "markdown",
   "metadata": {},
   "source": [
    "#### 4.2 Caricamento e divisione in training e test set, con ZCR"
   ]
  },
  {
   "cell_type": "code",
   "execution_count": 11,
   "metadata": {},
   "outputs": [],
   "source": [
    "# Caricamento dati con ZCR\n",
    "X_train_zcr, X_test_zcr, y_train_zcr, y_test_zcr = load_data(feature_extractor=combo_zcr)"
   ]
  },
  {
   "cell_type": "code",
   "execution_count": 161,
   "metadata": {
    "scrolled": true
   },
   "outputs": [
    {
     "name": "stdout",
     "output_type": "stream",
     "text": [
      "Il training set è composto da 1350 tracce audio, con cardinalità pari a 5\n",
      "Il test set è composto da 150 tracce audio, con cardinalità pari a 5\n"
     ]
    }
   ],
   "source": [
    "print(\"Il training set è composto da\", len(X_train_zcr), \"tracce audio, con cardinalità pari a\", len(X_train_zcr[0]))\n",
    "print(\"Il test set è composto da\", len(X_test_zcr), \"tracce audio, con cardinalità pari a\", len(X_test_zcr[0]))"
   ]
  },
  {
   "cell_type": "markdown",
   "metadata": {},
   "source": [
    "### 5. Addestramento modelli \n",
    "Il modello utilizzato per la classificazione è **SVC**, i cui iper-parametri vengono ottimizzati attraverso il metodo **GridSearch** con 2-cross validation."
   ]
  },
  {
   "cell_type": "markdown",
   "metadata": {},
   "source": [
    "#### 5.1 Ricerca degli iper-parametri e addestramento del modello senza ZCR"
   ]
  },
  {
   "cell_type": "code",
   "execution_count": 13,
   "metadata": {},
   "outputs": [],
   "source": [
    "# Caricamento dati\n",
    "X_train, X_test, y_train, y_test = load_data(feature_extractor=combo)"
   ]
  },
  {
   "cell_type": "code",
   "execution_count": 14,
   "metadata": {},
   "outputs": [],
   "source": [
    "# Parametri da provare in cross validation\n",
    "param_grid = {'C': [1e3, 1.5e3, 2e3, 2.5e3, 3e3, 3.5e3],\n",
    "              'gamma': [0.1, 0.25, 0.5, 0.75, 1.0],\n",
    "              'kernel': [\"sigmoid\", \"rbf\"]}\n",
    "\n",
    "# Inizializzazione Support Vector Machine\n",
    "clf = GridSearchCV(SVC(class_weight='balanced'), param_grid, cv=2)"
   ]
  },
  {
   "cell_type": "code",
   "execution_count": 15,
   "metadata": {},
   "outputs": [
    {
     "name": "stdout",
     "output_type": "stream",
     "text": [
      "Wall time: 43.2 s\n"
     ]
    }
   ],
   "source": [
    "# Addestramento\n",
    "%time clf = clf.fit(X_train, y_train)"
   ]
  },
  {
   "cell_type": "code",
   "execution_count": 16,
   "metadata": {
    "scrolled": true
   },
   "outputs": [
    {
     "name": "stdout",
     "output_type": "stream",
     "text": [
      "Migliore combinazione di parametri:\n",
      " C:  3500.0\n",
      " gamma:  0.5\n",
      " kernel:  rbf\n"
     ]
    }
   ],
   "source": [
    "# Risultato della cross validation per la selezione dei parametri\n",
    "print(\"Migliore combinazione di parametri:\")\n",
    "print(\" C: \", str(clf.best_estimator_.C))\n",
    "print(\" gamma: \", str(clf.best_estimator_.gamma))\n",
    "print(\" kernel: \", str(clf.best_estimator_.kernel))"
   ]
  },
  {
   "cell_type": "markdown",
   "metadata": {},
   "source": [
    "#### 5.2 Ricerca degli iper-parametri e addestramento del modello con ZCR"
   ]
  },
  {
   "cell_type": "code",
   "execution_count": 17,
   "metadata": {},
   "outputs": [
    {
     "name": "stdout",
     "output_type": "stream",
     "text": [
      "Wall time: 23.1 s\n"
     ]
    }
   ],
   "source": [
    "# Inizializzazione Support Vector Machine\n",
    "clf_zcr = GridSearchCV(SVC(class_weight='balanced'), param_grid, cv=2)\n",
    "%time clf_zcr = clf_zcr.fit(X_train_zcr, y_train_zcr)"
   ]
  },
  {
   "cell_type": "code",
   "execution_count": 18,
   "metadata": {},
   "outputs": [
    {
     "name": "stdout",
     "output_type": "stream",
     "text": [
      "Migliore combinazione di parametri:\n",
      " C:  2500.0\n",
      " gamma:  0.1\n",
      " kernel:  rbf\n"
     ]
    }
   ],
   "source": [
    "# Risultato della cross validation per la selezione dei parametri\n",
    "print(\"Migliore combinazione di parametri:\")\n",
    "print(\" C: \", str(clf_zcr.best_estimator_.C))\n",
    "print(\" gamma: \", str(clf_zcr.best_estimator_.gamma))\n",
    "print(\" kernel: \", str(clf_zcr.best_estimator_.kernel))"
   ]
  },
  {
   "cell_type": "markdown",
   "metadata": {},
   "source": [
    "### 6. Performance dei modelli sul test set"
   ]
  },
  {
   "cell_type": "markdown",
   "metadata": {},
   "source": [
    "#### 6.1 Performance sul test set del modello senza ZCR"
   ]
  },
  {
   "cell_type": "code",
   "execution_count": 43,
   "metadata": {
    "scrolled": true
   },
   "outputs": [
    {
     "name": "stdout",
     "output_type": "stream",
     "text": [
      "Report di classificazione:\n",
      "              precision    recall  f1-score   support\n",
      "\n",
      "           0       0.56      0.59      0.57        17\n",
      "           1       0.27      0.40      0.32        10\n",
      "           2       0.29      0.33      0.31        15\n",
      "           3       0.47      0.37      0.41        19\n",
      "           4       0.35      0.55      0.43        11\n",
      "           5       0.30      0.21      0.25        14\n",
      "           6       0.69      0.79      0.73        14\n",
      "           7       0.56      0.26      0.36        19\n",
      "           8       0.44      0.41      0.42        17\n",
      "           9       0.35      0.43      0.39        14\n",
      "\n",
      "    accuracy                           0.43       150\n",
      "   macro avg       0.43      0.43      0.42       150\n",
      "weighted avg       0.44      0.43      0.42       150\n",
      "\n"
     ]
    }
   ],
   "source": [
    "# Test\n",
    "y_pred = clf.predict(X_test)\n",
    "\n",
    "# Report di classificazione\n",
    "print(\"Report di classificazione:\")\n",
    "report = classification_report(y_test, y_pred, output_dict=True)\n",
    "print(classification_report(y_test, y_pred))"
   ]
  },
  {
   "cell_type": "code",
   "execution_count": 44,
   "metadata": {},
   "outputs": [],
   "source": [
    "# Accedo ai dati del classification_report e salvo i dati in un dataframe\n",
    "report = pd.DataFrame.from_dict(report).transpose()\n",
    "f1_score = report['f1-score']"
   ]
  },
  {
   "cell_type": "code",
   "execution_count": 21,
   "metadata": {},
   "outputs": [],
   "source": [
    "# funzione per la creazione della matrice di confusione\n",
    "def confusion_map(real, pred):\n",
    "\n",
    "    cm = confusion_matrix(real, pred)\n",
    "    fig, ax = plt.subplots(figsize=(7, 5))\n",
    "    im = ax.imshow(cm, cmap=plt.cm.Blues)\n",
    "\n",
    "    ax.set_xticks(np.arange(10))\n",
    "    ax.set_yticks(np.arange(10))\n",
    "\n",
    "    ax.set_xticklabels(np.arange(10))\n",
    "    ax.set_yticklabels(np.arange(10))\n",
    "\n",
    "    for i in range(10):\n",
    "        for j in range(10):\n",
    "            text = ax.text(j, i, cm[i, j],\n",
    "                           ha=\"center\", va=\"center\")\n",
    "\n",
    "    ax.set_title(\"Matrice di confusione\")\n",
    "    fig.tight_layout()\n",
    "    plt.show()"
   ]
  },
  {
   "cell_type": "code",
   "execution_count": 22,
   "metadata": {},
   "outputs": [
    {
     "data": {
      "image/png": "[encoded data removed]",
      "text/plain": [
       "<Figure size 504x360 with 1 Axes>"
      ]
     },
     "metadata": {
      "needs_background": "light"
     },
     "output_type": "display_data"
    }
   ],
   "source": [
    "confusion_map(y_test, y_pred)"
   ]
  },
  {
   "cell_type": "markdown",
   "metadata": {},
   "source": [
    "#### 6.2 Performance sul test set del modello con ZCR"
   ]
  },
  {
   "cell_type": "code",
   "execution_count": 45,
   "metadata": {
    "scrolled": true
   },
   "outputs": [
    {
     "name": "stdout",
     "output_type": "stream",
     "text": [
      "Report di classificazione:\n",
      "              precision    recall  f1-score   support\n",
      "\n",
      "           0       0.81      0.76      0.79        17\n",
      "           1       0.56      0.90      0.69        10\n",
      "           2       0.60      0.60      0.60        15\n",
      "           3       0.85      0.58      0.69        19\n",
      "           4       0.44      0.73      0.55        11\n",
      "           5       0.38      0.43      0.40        14\n",
      "           6       0.93      0.93      0.93        14\n",
      "           7       0.89      0.42      0.57        19\n",
      "           8       0.56      0.59      0.57        17\n",
      "           9       0.73      0.79      0.76        14\n",
      "\n",
      "    accuracy                           0.65       150\n",
      "   macro avg       0.67      0.67      0.65       150\n",
      "weighted avg       0.70      0.65      0.65       150\n",
      "\n"
     ]
    }
   ],
   "source": [
    "# Test\n",
    "y_pred_zcr = clf_zcr.predict(X_test_zcr)\n",
    "\n",
    "# Report di classificazione\n",
    "print(\"Report di classificazione:\")\n",
    "report_zcr = classification_report(y_test_zcr, y_pred_zcr, output_dict=True)\n",
    "print(classification_report(y_test_zcr, y_pred_zcr))"
   ]
  },
  {
   "cell_type": "code",
   "execution_count": 24,
   "metadata": {
    "scrolled": false
   },
   "outputs": [
    {
     "data": {
      "image/png": "[encoded data removed]",
      "text/plain": [
       "<Figure size 504x360 with 1 Axes>"
      ]
     },
     "metadata": {
      "needs_background": "light"
     },
     "output_type": "display_data"
    }
   ],
   "source": [
    "confusion_map(y_test_zcr, y_pred_zcr)"
   ]
  },
  {
   "cell_type": "code",
   "execution_count": 48,
   "metadata": {
    "scrolled": true
   },
   "outputs": [],
   "source": [
    "# Accedo ai dati del classification_report e salvo i dati in un dataframe\n",
    "report_zcr = pd.DataFrame.from_dict(report_zcr).transpose()\n",
    "f1_score_zcr = report_zcr['f1-score']"
   ]
  },
  {
   "cell_type": "markdown",
   "metadata": {},
   "source": [
    "### 7. Conclusioni"
   ]
  },
  {
   "cell_type": "markdown",
   "metadata": {},
   "source": [
    "#### 7.2 Creazione del plot con le differenza di performance tra i due modelli"
   ]
  },
  {
   "cell_type": "code",
   "execution_count": 158,
   "metadata": {},
   "outputs": [],
   "source": [
    "f1 = pd.concat([f1_score, f1_score_zcr], axis=1)\n",
    "f1.columns = ['clf','clf_zcr']\n",
    "f1=f1.reset_index()\n",
    "macro = f1[f1['index']=='macro avg']\n",
    "macro = macro.transpose()\n",
    "new_header = macro.iloc[0] \n",
    "macro = macro[1:] \n",
    "macro.columns = new_header "
   ]
  },
  {
   "cell_type": "code",
   "execution_count": 160,
   "metadata": {
    "scrolled": true
   },
   "outputs": [
    {
     "data": {
      "image/png": "[encoded data removed]",
      "text/plain": [
       "<Figure size 504x360 with 1 Axes>"
      ]
     },
     "metadata": {
      "needs_background": "light"
     },
     "output_type": "display_data"
    }
   ],
   "source": [
    "fig, ax = plt.subplots(figsize=(7, 5))\n",
    "\n",
    "ax.bar(macro.index,macro['macro avg'], width=0.4, color=['lightblue','tomato'])\n",
    "for i, v in enumerate(macro['macro avg']):\n",
    "    ax.text(i-.05, v/2 , str(round(v,3)), color='black')\n",
    "\n",
    "diff = macro['macro avg'][1]-macro['macro avg'][0]\n",
    "ax.axhspan(macro['macro avg'][0], macro['macro avg'][1], facecolor='gray', alpha=0.1)\n",
    "ax.text(.45, 0.75-diff , str(round(diff,3)), color='black',rotation=90)\n",
    "ax.set_title(\"Perfomance based on macro avg\")\n",
    "\n",
    "plt.show()"
   ]
  },
  {
   "cell_type": "markdown",
   "metadata": {},
   "source": [
    "#### 7.2 Considerazioni finali\n",
    "\n",
    "Come prima cosa è possibile osservare che la combinazione degli iper-parametri ottenuta dalla GridSearch è differente per i due modelli. Infatti, il modello **clf** (il modello iniziale senza la feature *zcr*) ottiene la migliore perfomance con $C=3,500$ e $\\gamma=0.5$. Il modello **clf_zcr**, invece, ottiene la migliore perormance con $C=2,500$ e $\\gamma=0.1$. La funzione kernel migliore per entrambi i modelli risulta essere la RBF. \n",
    "<br>\n",
    "Infine, osservando le matrici di confusione e le relative perfomance sui dati di test è possibile osservare che il modello in cui è presente la feature *zcr*, ottiene risultati migliori: basandoci sulla misura *macro avg*, si ottiene un miglioramento di circa il 24%. Per cui è possibile affermare che la features *zcr*, che può riflettere la natura dello spettro del segnale in una certa misura, risulta avere un notevole impatto sulle performance del classificatore.\n"
   ]
  }
 ],
 "metadata": {
  "kernelspec": {
   "display_name": "Python 3",
   "language": "python",
   "name": "python3"
  },
  "language_info": {
   "codemirror_mode": {
    "name": "ipython",
    "version": 3
   },
   "file_extension": ".py",
   "mimetype": "text/x-python",
   "name": "python",
   "nbconvert_exporter": "python",
   "pygments_lexer": "ipython3",
   "version": "3.7.6"
  }
 },
 "nbformat": 4,
 "nbformat_minor": 2
}
